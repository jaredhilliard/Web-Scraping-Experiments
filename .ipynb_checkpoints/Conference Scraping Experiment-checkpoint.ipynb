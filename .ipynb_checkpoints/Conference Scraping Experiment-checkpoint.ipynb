{
 "cells": [
  {
   "cell_type": "code",
   "execution_count": 1,
   "metadata": {},
   "outputs": [
    {
     "name": "stdout",
     "output_type": "stream",
     "text": [
      "<!DOCTYPE html>\n",
      "<html lang=\"en-US\">\n",
      "<head>\n",
      "\t<meta charset=\"UTF-8\" />\n",
      "<meta http-equiv=\"X-UA-Compatible\" content=\"IE=edge\">\n",
      "\t<link rel=\"pingback\" href=\"https://eangus.org/xmlrpc.php\" />\n",
      "\n",
      "\t<script type=\"text/javascript\">\n",
      "\t\tdocument.documentElement.className = 'js';\n",
      "\t</script>\n",
      "\n",
      "\t<script>var et_site_url='https://eangus.org';var et_post_id='156';function et_core_page_resource_fallback(a,b){\"undefined\"===typeof b&&(b=a.sheet.cssRules&&0===a.sheet.cssRules.length);b&&(a.onerror=null,a.onload=null,a.hre\n"
     ]
    }
   ],
   "source": [
    "import requests\n",
    "r = requests.get('https://eangus.org/conference-attendance/')\n",
    "print(r.text[0:500])"
   ]
  },
  {
   "cell_type": "code",
   "execution_count": 2,
   "metadata": {},
   "outputs": [],
   "source": [
    "#Ok, we have successfully scraped the html.  Let's turn it into a beautiful soup.\n",
    "from bs4 import BeautifulSoup\n",
    "soup = BeautifulSoup(r.text, 'html.parser')"
   ]
  },
  {
   "cell_type": "code",
   "execution_count": 4,
   "metadata": {},
   "outputs": [
    {
     "data": {
      "text/plain": [
       "0"
      ]
     },
     "execution_count": 4,
     "metadata": {},
     "output_type": "execute_result"
    }
   ],
   "source": [
    "#ok, now I need to look into the html source code to see how I can use soup.find_all() here.  \n",
    "#I'm guessing what I want is the class gv-field-20-1.  Let's check.\n",
    "results = soup.find_all('span', attrs =  {'class':'gv-field-20-1'})\n",
    "len(results)"
   ]
  },
  {
   "cell_type": "code",
   "execution_count": 5,
   "metadata": {},
   "outputs": [
    {
     "data": {
      "text/plain": [
       "25"
      ]
     },
     "execution_count": 5,
     "metadata": {},
     "output_type": "execute_result"
    }
   ],
   "source": [
    "#that doesn't appear to have worked. what about\n",
    "results = soup.find_all('td', attrs = {'class':'gv-field-20-1'})\n",
    "len(results)"
   ]
  },
  {
   "cell_type": "code",
   "execution_count": 6,
   "metadata": {},
   "outputs": [
    {
     "data": {
      "text/plain": [
       "[<td class=\"gv-field-20-1\" id=\"gv-field-20-1\">Bonnie</td>,\n",
       " <td class=\"gv-field-20-1\" id=\"gv-field-20-1\">CHRIS</td>,\n",
       " <td class=\"gv-field-20-1\" id=\"gv-field-20-1\">DONNIE</td>]"
      ]
     },
     "execution_count": 6,
     "metadata": {},
     "output_type": "execute_result"
    }
   ],
   "source": [
    "#ah, good, this works then. let's see.\n",
    "results[0:3]"
   ]
  },
  {
   "cell_type": "code",
   "execution_count": 8,
   "metadata": {},
   "outputs": [
    {
     "data": {
      "text/plain": [
       "25"
      ]
     },
     "execution_count": 8,
     "metadata": {},
     "output_type": "execute_result"
    }
   ],
   "source": [
    "#Ah, so I've just pulled the first names.  Hmmm...ah, they actually labelled their attributes.  so gv-field-20-1 is first\n",
    "#names.  So I should look into the html where these classes are defined.  Ah, the defining attributes are right above the body.\n",
    "#what if I just use gv-field-20* or something?\n",
    "#Let's brute force it first, then figure out something more eloquent afterwards.\n",
    "first_name = soup.find_all('td', attrs = {'class':'gv-field-20-1'})\n",
    "len(first_name)\n"
   ]
  },
  {
   "cell_type": "code",
   "execution_count": null,
   "metadata": {},
   "outputs": [],
   "source": []
  },
  {
   "cell_type": "code",
   "execution_count": 9,
   "metadata": {},
   "outputs": [
    {
     "data": {
      "text/plain": [
       "12"
      ]
     },
     "execution_count": 9,
     "metadata": {},
     "output_type": "execute_result"
    }
   ],
   "source": [
    "#Nope, doesn't work that way.  what about 'span' 'gv-field-label'?\n",
    "results = soup.find_all('span', attrs = {'class': 'gv-field-label'})\n",
    "len(results)"
   ]
  },
  {
   "cell_type": "code",
   "execution_count": 10,
   "metadata": {},
   "outputs": [
    {
     "data": {
      "text/plain": [
       "[<span class=\"gv-field-label\"><a class=\"gv-sort gv-icon-caret-up-down\" href=\"/conference-attendance/?sort=1&amp;dir=asc\"></a> First Name</span>,\n",
       " <span class=\"gv-field-label\"><a class=\"gv-sort gv-icon-caret-up-down\" href=\"/conference-attendance/?sort=3&amp;dir=asc\"></a> Last Name</span>,\n",
       " <span class=\"gv-field-label\"><a class=\"gv-sort gv-icon-sort-desc\" href=\"/conference-attendance/?sort=4&amp;dir=desc\"></a> Association</span>,\n",
       " <span class=\"gv-field-label\"><a class=\"gv-sort gv-icon-caret-up-down\" href=\"/conference-attendance/?sort=7&amp;dir=asc\"></a> Ticket Type</span>,\n",
       " <span class=\"gv-field-label\"><a class=\"gv-sort gv-icon-caret-up-down\" href=\"/conference-attendance/?sort=8&amp;dir=asc\"></a> Attendee Status</span>,\n",
       " <span class=\"gv-field-label\"><a class=\"gv-sort gv-icon-caret-up-down\" href=\"/conference-attendance/?sort=9&amp;dir=asc\"></a> Meal</span>,\n",
       " <span class=\"gv-field-label\"><a class=\"gv-sort gv-icon-caret-up-down\" href=\"/conference-attendance/?sort=1&amp;dir=asc\"></a> First Name</span>,\n",
       " <span class=\"gv-field-label\"><a class=\"gv-sort gv-icon-caret-up-down\" href=\"/conference-attendance/?sort=3&amp;dir=asc\"></a> Last Name</span>,\n",
       " <span class=\"gv-field-label\"><a class=\"gv-sort gv-icon-sort-desc\" href=\"/conference-attendance/?sort=4&amp;dir=desc\"></a> Association</span>,\n",
       " <span class=\"gv-field-label\"><a class=\"gv-sort gv-icon-caret-up-down\" href=\"/conference-attendance/?sort=7&amp;dir=asc\"></a> Ticket Type</span>,\n",
       " <span class=\"gv-field-label\"><a class=\"gv-sort gv-icon-caret-up-down\" href=\"/conference-attendance/?sort=8&amp;dir=asc\"></a> Attendee Status</span>]"
      ]
     },
     "execution_count": 10,
     "metadata": {},
     "output_type": "execute_result"
    }
   ],
   "source": [
    "#how odd.  What does it look like?\n",
    "results[0:11]"
   ]
  },
  {
   "cell_type": "code",
   "execution_count": 19,
   "metadata": {},
   "outputs": [],
   "source": [
    "#ah, exactly as one would expect, it labels the column/field. So we have:\n",
    "#gv-field-20-1 first name\n",
    "#gv-field-20-3 last name\n",
    "#gv-field-20-4 Association\n",
    "#gv-field-20-7 Ticket Type\n",
    "#gv-field-20-8 Attendee Status\n",
    "#gv-field-20-9 Meal\n",
    "last_name = soup.find_all('td', attrs = {'class':'gv-field-20-3'})\n",
    "association = soup.find_all('td', attrs = {'class':'gv-field-20-4'})\n",
    "ticket_type = soup.find_all('td', attrs = {'class':'gv-field-20-7'})\n",
    "status = soup.find_all('td', attrs = {'class':'gv-field-20-8'})\n",
    "meal = soup.find_all('td', attrs = {'class':'gv-field-20-9'})\n",
    "all_attributes = [first_name, last_name, association, ticket_type, status, meal]\n"
   ]
  },
  {
   "cell_type": "code",
   "execution_count": null,
   "metadata": {},
   "outputs": [],
   "source": []
  },
  {
   "cell_type": "code",
   "execution_count": null,
   "metadata": {},
   "outputs": [],
   "source": []
  },
  {
   "cell_type": "code",
   "execution_count": 15,
   "metadata": {},
   "outputs": [
    {
     "name": "stdout",
     "output_type": "stream",
     "text": [
      "25\n",
      "25\n",
      "25\n",
      "25\n",
      "25\n",
      "25\n"
     ]
    }
   ],
   "source": [
    "for attribute in all_attributes:\n",
    "    print(len(attribute))"
   ]
  },
  {
   "cell_type": "code",
   "execution_count": 20,
   "metadata": {},
   "outputs": [
    {
     "data": {
      "text/plain": [
       "[<td class=\"gv-field-20-3\" id=\"gv-field-20-3\">Moser</td>,\n",
       " <td class=\"gv-field-20-3\" id=\"gv-field-20-3\">GRAGG</td>,\n",
       " <td class=\"gv-field-20-3\" id=\"gv-field-20-3\">KYLE</td>]"
      ]
     },
     "execution_count": 20,
     "metadata": {},
     "output_type": "execute_result"
    }
   ],
   "source": [
    "#alright, let's see if I can paste this together like I want.\n",
    "#actually, let's see if I need to clean up the presentation at all.\n",
    "last_name[0:3]\n"
   ]
  },
  {
   "cell_type": "code",
   "execution_count": 44,
   "metadata": {},
   "outputs": [
    {
     "data": {
      "text/plain": [
       "13"
      ]
     },
     "execution_count": 44,
     "metadata": {},
     "output_type": "execute_result"
    }
   ],
   "source": [
    "#all right, I need to rip the text out of this. how about using class 'alt'?\n",
    "results_alt = soup.find_all('tr', attrs = {'class':'alt'}) \n",
    "len(results_alt)"
   ]
  },
  {
   "cell_type": "code",
   "execution_count": null,
   "metadata": {},
   "outputs": [],
   "source": []
  },
  {
   "cell_type": "code",
   "execution_count": null,
   "metadata": {},
   "outputs": [],
   "source": []
  },
  {
   "cell_type": "code",
   "execution_count": null,
   "metadata": {},
   "outputs": [],
   "source": []
  },
  {
   "cell_type": "code",
   "execution_count": 48,
   "metadata": {},
   "outputs": [
    {
     "data": {
      "text/plain": [
       "14"
      ]
     },
     "execution_count": 48,
     "metadata": {},
     "output_type": "execute_result"
    }
   ],
   "source": [
    "results_blank = soup.find_all('tr', attrs = {'class': \"\"})\n",
    "len(results_blank)"
   ]
  },
  {
   "cell_type": "code",
   "execution_count": null,
   "metadata": {},
   "outputs": [],
   "source": []
  },
  {
   "cell_type": "code",
   "execution_count": 47,
   "metadata": {},
   "outputs": [
    {
     "name": "stdout",
     "output_type": "stream",
     "text": [
      "[<tr class=\"alt\">\n",
      "<td class=\"gv-field-20-1\" id=\"gv-field-20-1\">Bonnie</td><td class=\"gv-field-20-3\" id=\"gv-field-20-3\">Moser</td><td class=\"gv-field-20-4\" id=\"gv-field-20-4\"></td><td class=\"gv-field-20-7\" id=\"gv-field-20-7\">2015 Attendee Ticket (Regular)</td><td class=\"gv-field-20-8\" id=\"gv-field-20-8\">Attendee</td><td class=\"gv-field-20-9\" id=\"gv-field-20-9\">Beef</td> </tr>, <tr class=\"alt\">\n",
      "<td class=\"gv-field-20-1\" id=\"gv-field-20-1\">DONNIE</td><td class=\"gv-field-20-3\" id=\"gv-field-20-3\">KYLE</td><td class=\"gv-field-20-4\" id=\"gv-field-20-4\"></td><td class=\"gv-field-20-7\" id=\"gv-field-20-7\">2014 Pre-Registrations *CLOSED*</td><td class=\"gv-field-20-8\" id=\"gv-field-20-8\">Attendee</td><td class=\"gv-field-20-9\" id=\"gv-field-20-9\">No, I will not attend</td> </tr>, <tr class=\"alt\">\n",
      "<td class=\"gv-field-20-1\" id=\"gv-field-20-1\">Tonny</td><td class=\"gv-field-20-3\" id=\"gv-field-20-3\">Pridgen</td><td class=\"gv-field-20-4\" id=\"gv-field-20-4\">Alabama</td><td class=\"gv-field-20-7\" id=\"gv-field-20-7\">2015 Attendee Ticket (Regular)</td><td class=\"gv-field-20-8\" id=\"gv-field-20-8\">Attendee</td><td class=\"gv-field-20-9\" id=\"gv-field-20-9\">Beef</td> </tr>, <tr class=\"alt\">\n",
      "<td class=\"gv-field-20-1\" id=\"gv-field-20-1\">Kristi</td><td class=\"gv-field-20-3\" id=\"gv-field-20-3\">Taylor</td><td class=\"gv-field-20-4\" id=\"gv-field-20-4\">Alabama</td><td class=\"gv-field-20-7\" id=\"gv-field-20-7\">2015 Attendee Ticket (Regular)</td><td class=\"gv-field-20-8\" id=\"gv-field-20-8\">Delegate (authorized and confirmed by your State Association)</td><td class=\"gv-field-20-9\" id=\"gv-field-20-9\">Chicken</td> </tr>, <tr class=\"alt\">\n",
      "<td class=\"gv-field-20-1\" id=\"gv-field-20-1\">James (Jim)</td><td class=\"gv-field-20-3\" id=\"gv-field-20-3\">Choate</td><td class=\"gv-field-20-4\" id=\"gv-field-20-4\">Alabama</td><td class=\"gv-field-20-7\" id=\"gv-field-20-7\">2015 Attendee Ticket (Regular)</td><td class=\"gv-field-20-8\" id=\"gv-field-20-8\">Attendee</td><td class=\"gv-field-20-9\" id=\"gv-field-20-9\">Chicken</td> </tr>, <tr class=\"alt\">\n",
      "<td class=\"gv-field-20-1\" id=\"gv-field-20-1\">JUDY</td><td class=\"gv-field-20-3\" id=\"gv-field-20-3\">WOOD</td><td class=\"gv-field-20-4\" id=\"gv-field-20-4\">Alabama</td><td class=\"gv-field-20-7\" id=\"gv-field-20-7\">2014 Pre-Registrations *CLOSED*</td><td class=\"gv-field-20-8\" id=\"gv-field-20-8\">Auxiliary</td><td class=\"gv-field-20-9\" id=\"gv-field-20-9\">Chicken</td> </tr>, <tr class=\"alt\">\n",
      "<td class=\"gv-field-20-1\" id=\"gv-field-20-1\">NANCY</td><td class=\"gv-field-20-3\" id=\"gv-field-20-3\">WALLER</td><td class=\"gv-field-20-4\" id=\"gv-field-20-4\">Alabama</td><td class=\"gv-field-20-7\" id=\"gv-field-20-7\">2014 Pre-Registrations *CLOSED*</td><td class=\"gv-field-20-8\" id=\"gv-field-20-8\">Attendee</td><td class=\"gv-field-20-9\" id=\"gv-field-20-9\">Beef</td> </tr>, <tr class=\"alt\">\n",
      "<td class=\"gv-field-20-1\" id=\"gv-field-20-1\">BEVERLY</td><td class=\"gv-field-20-3\" id=\"gv-field-20-3\">PIKE</td><td class=\"gv-field-20-4\" id=\"gv-field-20-4\">Alabama</td><td class=\"gv-field-20-7\" id=\"gv-field-20-7\">2014 Pre-Registrations *CLOSED*</td><td class=\"gv-field-20-8\" id=\"gv-field-20-8\">Auxiliary</td><td class=\"gv-field-20-9\" id=\"gv-field-20-9\">Beef</td> </tr>, <tr class=\"alt\">\n",
      "<td class=\"gv-field-20-1\" id=\"gv-field-20-1\">MARJORIE</td><td class=\"gv-field-20-3\" id=\"gv-field-20-3\">MONK</td><td class=\"gv-field-20-4\" id=\"gv-field-20-4\">Alabama</td><td class=\"gv-field-20-7\" id=\"gv-field-20-7\">2014 Pre-Registrations *CLOSED*</td><td class=\"gv-field-20-8\" id=\"gv-field-20-8\">Attendee</td><td class=\"gv-field-20-9\" id=\"gv-field-20-9\">Chicken</td> </tr>, <tr class=\"alt\">\n",
      "<td class=\"gv-field-20-1\" id=\"gv-field-20-1\">AUX 4</td><td class=\"gv-field-20-3\" id=\"gv-field-20-3\">.</td><td class=\"gv-field-20-4\" id=\"gv-field-20-4\">Alabama</td><td class=\"gv-field-20-7\" id=\"gv-field-20-7\">2014 Pre-Registrations *CLOSED*</td><td class=\"gv-field-20-8\" id=\"gv-field-20-8\">Attendee</td><td class=\"gv-field-20-9\" id=\"gv-field-20-9\">Chicken</td> </tr>, <tr class=\"alt\">\n",
      "<td class=\"gv-field-20-1\" id=\"gv-field-20-1\">STEVE</td><td class=\"gv-field-20-3\" id=\"gv-field-20-3\">BOATWRIGHT</td><td class=\"gv-field-20-4\" id=\"gv-field-20-4\">Alabama</td><td class=\"gv-field-20-7\" id=\"gv-field-20-7\">2014 Pre-Registrations *CLOSED*</td><td class=\"gv-field-20-8\" id=\"gv-field-20-8\">Attendee</td><td class=\"gv-field-20-9\" id=\"gv-field-20-9\">Beef</td> </tr>, <tr class=\"alt\">\n",
      "<td class=\"gv-field-20-1\" id=\"gv-field-20-1\">SHERMAN</td><td class=\"gv-field-20-3\" id=\"gv-field-20-3\">HARGROVE</td><td class=\"gv-field-20-4\" id=\"gv-field-20-4\">Alabama</td><td class=\"gv-field-20-7\" id=\"gv-field-20-7\">2014 Pre-Registrations *CLOSED*</td><td class=\"gv-field-20-8\" id=\"gv-field-20-8\">Attendee</td><td class=\"gv-field-20-9\" id=\"gv-field-20-9\">No, I will not attend</td> </tr>, <tr class=\"alt\">\n",
      "<td class=\"gv-field-20-1\" id=\"gv-field-20-1\">JOHN</td><td class=\"gv-field-20-3\" id=\"gv-field-20-3\">ELMORE</td><td class=\"gv-field-20-4\" id=\"gv-field-20-4\">Alabama</td><td class=\"gv-field-20-7\" id=\"gv-field-20-7\">2014 Pre-Registrations *CLOSED*</td><td class=\"gv-field-20-8\" id=\"gv-field-20-8\">Attendee</td><td class=\"gv-field-20-9\" id=\"gv-field-20-9\">Beef</td> </tr>]\n"
     ]
    }
   ],
   "source": [
    "print(results_alt)\n",
    "#we can see results_alt is names all the way down, so I\"m picking up extra data with the \"\" bit."
   ]
  },
  {
   "cell_type": "code",
   "execution_count": null,
   "metadata": {},
   "outputs": [],
   "source": []
  },
  {
   "cell_type": "code",
   "execution_count": null,
   "metadata": {},
   "outputs": [],
   "source": []
  },
  {
   "cell_type": "code",
   "execution_count": 50,
   "metadata": {},
   "outputs": [
    {
     "data": {
      "text/plain": [
       "<tr>\n",
       "<th class=\"gv-field-20-1\" id=\"gv-field-20-1\"><span class=\"gv-field-label\"><a class=\"gv-sort gv-icon-caret-up-down\" href=\"/conference-attendance/?sort=1&amp;dir=asc\"></a> First Name</span></th><th class=\"gv-field-20-3\" id=\"gv-field-20-3\"><span class=\"gv-field-label\"><a class=\"gv-sort gv-icon-caret-up-down\" href=\"/conference-attendance/?sort=3&amp;dir=asc\"></a> Last Name</span></th><th class=\"gv-field-20-4\" id=\"gv-field-20-4\"><span class=\"gv-field-label\"><a class=\"gv-sort gv-icon-sort-desc\" href=\"/conference-attendance/?sort=4&amp;dir=desc\"></a> Association</span></th><th class=\"gv-field-20-7\" id=\"gv-field-20-7\"><span class=\"gv-field-label\"><a class=\"gv-sort gv-icon-caret-up-down\" href=\"/conference-attendance/?sort=7&amp;dir=asc\"></a> Ticket Type</span></th><th class=\"gv-field-20-8\" id=\"gv-field-20-8\"><span class=\"gv-field-label\"><a class=\"gv-sort gv-icon-caret-up-down\" href=\"/conference-attendance/?sort=8&amp;dir=asc\"></a> Attendee Status</span></th><th class=\"gv-field-20-9\" id=\"gv-field-20-9\"><span class=\"gv-field-label\"><a class=\"gv-sort gv-icon-caret-up-down\" href=\"/conference-attendance/?sort=9&amp;dir=asc\"></a> Meal</span></th> </tr>"
      ]
     },
     "execution_count": 50,
     "metadata": {},
     "output_type": "execute_result"
    }
   ],
   "source": [
    "results_blank[0]"
   ]
  },
  {
   "cell_type": "code",
   "execution_count": 52,
   "metadata": {},
   "outputs": [
    {
     "data": {
      "text/plain": [
       "<tr>\n",
       "<th class=\"gv-field-20-1\" id=\"gv-field-20-1\"><span class=\"gv-field-label\"><a class=\"gv-sort gv-icon-caret-up-down\" href=\"/conference-attendance/?sort=1&amp;dir=asc\"></a> First Name</span></th><th class=\"gv-field-20-3\" id=\"gv-field-20-3\"><span class=\"gv-field-label\"><a class=\"gv-sort gv-icon-caret-up-down\" href=\"/conference-attendance/?sort=3&amp;dir=asc\"></a> Last Name</span></th><th class=\"gv-field-20-4\" id=\"gv-field-20-4\"><span class=\"gv-field-label\"><a class=\"gv-sort gv-icon-sort-desc\" href=\"/conference-attendance/?sort=4&amp;dir=desc\"></a> Association</span></th><th class=\"gv-field-20-7\" id=\"gv-field-20-7\"><span class=\"gv-field-label\"><a class=\"gv-sort gv-icon-caret-up-down\" href=\"/conference-attendance/?sort=7&amp;dir=asc\"></a> Ticket Type</span></th><th class=\"gv-field-20-8\" id=\"gv-field-20-8\"><span class=\"gv-field-label\"><a class=\"gv-sort gv-icon-caret-up-down\" href=\"/conference-attendance/?sort=8&amp;dir=asc\"></a> Attendee Status</span></th><th class=\"gv-field-20-9\" id=\"gv-field-20-9\"><span class=\"gv-field-label\"><a class=\"gv-sort gv-icon-caret-up-down\" href=\"/conference-attendance/?sort=9&amp;dir=asc\"></a> Meal</span></th> </tr>"
      ]
     },
     "execution_count": 52,
     "metadata": {},
     "output_type": "execute_result"
    }
   ],
   "source": [
    "results_blank[-1]"
   ]
  },
  {
   "cell_type": "code",
   "execution_count": 53,
   "metadata": {},
   "outputs": [
    {
     "data": {
      "text/plain": [
       "[<tr class=\"\">\n",
       " <td class=\"gv-field-20-1\" id=\"gv-field-20-1\">CHRIS</td><td class=\"gv-field-20-3\" id=\"gv-field-20-3\">GRAGG</td><td class=\"gv-field-20-4\" id=\"gv-field-20-4\"></td><td class=\"gv-field-20-7\" id=\"gv-field-20-7\">2014 Pre-Registrations *CLOSED*</td><td class=\"gv-field-20-8\" id=\"gv-field-20-8\">Attendee</td><td class=\"gv-field-20-9\" id=\"gv-field-20-9\">Beef</td> </tr>,\n",
       " <tr class=\"\">\n",
       " <td class=\"gv-field-20-1\" id=\"gv-field-20-1\">Mike</td><td class=\"gv-field-20-3\" id=\"gv-field-20-3\">Schultz</td><td class=\"gv-field-20-4\" id=\"gv-field-20-4\"></td><td class=\"gv-field-20-7\" id=\"gv-field-20-7\">2015 INVITED DG-VIP</td><td class=\"gv-field-20-8\" id=\"gv-field-20-8\">Delegate (authorized and confirmed by your State Association)</td><td class=\"gv-field-20-9\" id=\"gv-field-20-9\">No, I will not attend</td> </tr>,\n",
       " <tr class=\"\">\n",
       " <td class=\"gv-field-20-1\" id=\"gv-field-20-1\">Janine</td><td class=\"gv-field-20-3\" id=\"gv-field-20-3\">Pridgen</td><td class=\"gv-field-20-4\" id=\"gv-field-20-4\">Alabama</td><td class=\"gv-field-20-7\" id=\"gv-field-20-7\">2015 Attendee Ticket (Regular)</td><td class=\"gv-field-20-8\" id=\"gv-field-20-8\">Attendee</td><td class=\"gv-field-20-9\" id=\"gv-field-20-9\">Chicken</td> </tr>,\n",
       " <tr class=\"\">\n",
       " <td class=\"gv-field-20-1\" id=\"gv-field-20-1\">Pam</td><td class=\"gv-field-20-3\" id=\"gv-field-20-3\">Adams</td><td class=\"gv-field-20-4\" id=\"gv-field-20-4\">Alabama</td><td class=\"gv-field-20-7\" id=\"gv-field-20-7\">2015 Attendee Ticket (Regular)</td><td class=\"gv-field-20-8\" id=\"gv-field-20-8\">Delegate (authorized and confirmed by your State Association)</td><td class=\"gv-field-20-9\" id=\"gv-field-20-9\">Chicken</td> </tr>,\n",
       " <tr class=\"\">\n",
       " <td class=\"gv-field-20-1\" id=\"gv-field-20-1\">Pat</td><td class=\"gv-field-20-3\" id=\"gv-field-20-3\">Choate</td><td class=\"gv-field-20-4\" id=\"gv-field-20-4\">Alabama</td><td class=\"gv-field-20-7\" id=\"gv-field-20-7\">2015 Attendee Ticket (Regular)</td><td class=\"gv-field-20-8\" id=\"gv-field-20-8\">Guest (of an Attendee)</td><td class=\"gv-field-20-9\" id=\"gv-field-20-9\">Beef</td> </tr>,\n",
       " <tr class=\"\">\n",
       " <td class=\"gv-field-20-1\" id=\"gv-field-20-1\">DON</td><td class=\"gv-field-20-3\" id=\"gv-field-20-3\">WOOD</td><td class=\"gv-field-20-4\" id=\"gv-field-20-4\">Alabama</td><td class=\"gv-field-20-7\" id=\"gv-field-20-7\">2015 Executive Council/Conference Staff/National Office</td><td class=\"gv-field-20-8\" id=\"gv-field-20-8\">Executive Council</td><td class=\"gv-field-20-9\" id=\"gv-field-20-9\">Beef</td> </tr>,\n",
       " <tr class=\"\">\n",
       " <td class=\"gv-field-20-1\" id=\"gv-field-20-1\">EDDIE</td><td class=\"gv-field-20-3\" id=\"gv-field-20-3\">PIKE</td><td class=\"gv-field-20-4\" id=\"gv-field-20-4\">Alabama</td><td class=\"gv-field-20-7\" id=\"gv-field-20-7\">2014 Pre-Registrations *CLOSED*</td><td class=\"gv-field-20-8\" id=\"gv-field-20-8\">Attendee</td><td class=\"gv-field-20-9\" id=\"gv-field-20-9\">Beef</td> </tr>,\n",
       " <tr class=\"\">\n",
       " <td class=\"gv-field-20-1\" id=\"gv-field-20-1\">CECIL</td><td class=\"gv-field-20-3\" id=\"gv-field-20-3\">MONK</td><td class=\"gv-field-20-4\" id=\"gv-field-20-4\">Alabama</td><td class=\"gv-field-20-7\" id=\"gv-field-20-7\">2014 Pre-Registrations *CLOSED*</td><td class=\"gv-field-20-8\" id=\"gv-field-20-8\">Attendee</td><td class=\"gv-field-20-9\" id=\"gv-field-20-9\">Beef</td> </tr>,\n",
       " <tr class=\"\">\n",
       " <td class=\"gv-field-20-1\" id=\"gv-field-20-1\">AUX 3</td><td class=\"gv-field-20-3\" id=\"gv-field-20-3\">.</td><td class=\"gv-field-20-4\" id=\"gv-field-20-4\">Alabama</td><td class=\"gv-field-20-7\" id=\"gv-field-20-7\">2014 Pre-Registrations *CLOSED*</td><td class=\"gv-field-20-8\" id=\"gv-field-20-8\">Attendee</td><td class=\"gv-field-20-9\" id=\"gv-field-20-9\">Chicken</td> </tr>,\n",
       " <tr class=\"\">\n",
       " <td class=\"gv-field-20-1\" id=\"gv-field-20-1\">JUDY</td><td class=\"gv-field-20-3\" id=\"gv-field-20-3\">HOLLAND</td><td class=\"gv-field-20-4\" id=\"gv-field-20-4\">Alabama</td><td class=\"gv-field-20-7\" id=\"gv-field-20-7\">2014 Pre-Registrations *CLOSED*</td><td class=\"gv-field-20-8\" id=\"gv-field-20-8\">Attendee</td><td class=\"gv-field-20-9\" id=\"gv-field-20-9\">No, I will not attend</td> </tr>,\n",
       " <tr class=\"\">\n",
       " <td class=\"gv-field-20-1\" id=\"gv-field-20-1\">PATTI</td><td class=\"gv-field-20-3\" id=\"gv-field-20-3\">REESOR</td><td class=\"gv-field-20-4\" id=\"gv-field-20-4\">Alabama</td><td class=\"gv-field-20-7\" id=\"gv-field-20-7\">2014 Pre-Registrations *CLOSED*</td><td class=\"gv-field-20-8\" id=\"gv-field-20-8\">Attendee</td><td class=\"gv-field-20-9\" id=\"gv-field-20-9\">Beef</td> </tr>,\n",
       " <tr class=\"\">\n",
       " <td class=\"gv-field-20-1\" id=\"gv-field-20-1\">JACQUELYN</td><td class=\"gv-field-20-3\" id=\"gv-field-20-3\">HARGROVE</td><td class=\"gv-field-20-4\" id=\"gv-field-20-4\">Alabama</td><td class=\"gv-field-20-7\" id=\"gv-field-20-7\">2014 Pre-Registrations *CLOSED*</td><td class=\"gv-field-20-8\" id=\"gv-field-20-8\">Attendee</td><td class=\"gv-field-20-9\" id=\"gv-field-20-9\">Beef</td> </tr>]"
      ]
     },
     "execution_count": 53,
     "metadata": {},
     "output_type": "execute_result"
    }
   ],
   "source": [
    "results_blank[1:-1]"
   ]
  },
  {
   "cell_type": "code",
   "execution_count": 54,
   "metadata": {},
   "outputs": [
    {
     "data": {
      "text/plain": [
       "12"
      ]
     },
     "execution_count": 54,
     "metadata": {},
     "output_type": "execute_result"
    }
   ],
   "source": [
    "len(results_blank[1:-1])"
   ]
  },
  {
   "cell_type": "code",
   "execution_count": 55,
   "metadata": {},
   "outputs": [
    {
     "data": {
      "text/plain": [
       "25"
      ]
     },
     "execution_count": 55,
     "metadata": {},
     "output_type": "execute_result"
    }
   ],
   "source": [
    "#that fixed it\n",
    "page_results = results_alt + results_blank[1:-1]\n",
    "len(page_results)"
   ]
  },
  {
   "cell_type": "code",
   "execution_count": 56,
   "metadata": {},
   "outputs": [
    {
     "data": {
      "text/plain": [
       "<tr class=\"alt\">\n",
       "<td class=\"gv-field-20-1\" id=\"gv-field-20-1\">Bonnie</td><td class=\"gv-field-20-3\" id=\"gv-field-20-3\">Moser</td><td class=\"gv-field-20-4\" id=\"gv-field-20-4\"></td><td class=\"gv-field-20-7\" id=\"gv-field-20-7\">2015 Attendee Ticket (Regular)</td><td class=\"gv-field-20-8\" id=\"gv-field-20-8\">Attendee</td><td class=\"gv-field-20-9\" id=\"gv-field-20-9\">Beef</td> </tr>"
      ]
     },
     "execution_count": 56,
     "metadata": {},
     "output_type": "execute_result"
    }
   ],
   "source": [
    "page_results[0]"
   ]
  },
  {
   "cell_type": "code",
   "execution_count": 58,
   "metadata": {},
   "outputs": [
    {
     "data": {
      "text/plain": [
       "bs4.element.Tag"
      ]
     },
     "execution_count": 58,
     "metadata": {},
     "output_type": "execute_result"
    }
   ],
   "source": [
    "#ok, we should be able to start cleaning things up now.\n",
    "type(page_results[0])"
   ]
  },
  {
   "cell_type": "code",
   "execution_count": 60,
   "metadata": {},
   "outputs": [
    {
     "name": "stdout",
     "output_type": "stream",
     "text": [
      "None\n"
     ]
    }
   ],
   "source": [
    "first_name = page_results[0].find('gv-field-20-1')\n",
    "print(first_name)"
   ]
  },
  {
   "cell_type": "code",
   "execution_count": 61,
   "metadata": {},
   "outputs": [
    {
     "data": {
      "text/plain": [
       "<td class=\"gv-field-20-1\" id=\"gv-field-20-1\">Bonnie</td>"
      ]
     },
     "execution_count": 61,
     "metadata": {},
     "output_type": "execute_result"
    }
   ],
   "source": [
    "#bitch. what about contents?\n",
    "page_results[0].contents[1]"
   ]
  },
  {
   "cell_type": "code",
   "execution_count": 62,
   "metadata": {},
   "outputs": [
    {
     "data": {
      "text/plain": [
       "'Bonnie'"
      ]
     },
     "execution_count": 62,
     "metadata": {},
     "output_type": "execute_result"
    }
   ],
   "source": [
    "page_results[0].contents[1].text"
   ]
  },
  {
   "cell_type": "code",
   "execution_count": 67,
   "metadata": {},
   "outputs": [
    {
     "name": "stdout",
     "output_type": "stream",
     "text": [
      "Bonnie\n",
      "DONNIE\n",
      "Tonny\n",
      "Kristi\n",
      "James (Jim)\n",
      "JUDY\n",
      "NANCY\n",
      "BEVERLY\n",
      "MARJORIE\n",
      "AUX 4\n",
      "STEVE\n",
      "SHERMAN\n",
      "JOHN\n",
      "CHRIS\n",
      "Mike\n",
      "Janine\n",
      "Pam\n",
      "Pat\n",
      "DON\n",
      "EDDIE\n",
      "CECIL\n",
      "AUX 3\n",
      "JUDY\n",
      "PATTI\n",
      "JACQUELYN\n"
     ]
    }
   ],
   "source": [
    "#ok, so we'll need first_name = result.contents.text?  we shall see. let's test out a for loop now actually\n",
    "for result in page_results:\n",
    "    print(result.contents[1].text)"
   ]
  },
  {
   "cell_type": "code",
   "execution_count": null,
   "metadata": {},
   "outputs": [],
   "source": [
    "#fuck yes. so the code will be first_name = result.contents[1].text"
   ]
  },
  {
   "cell_type": "code",
   "execution_count": 68,
   "metadata": {},
   "outputs": [
    {
     "name": "stdout",
     "output_type": "stream",
     "text": [
      "Moser\n",
      "KYLE\n",
      "Pridgen\n",
      "Taylor\n",
      "Choate\n",
      "WOOD\n",
      "WALLER\n",
      "PIKE\n",
      "MONK\n",
      ".\n",
      "BOATWRIGHT\n",
      "HARGROVE\n",
      "ELMORE\n",
      "GRAGG\n",
      "Schultz\n",
      "Pridgen\n",
      "Adams\n",
      "Choate\n",
      "WOOD\n",
      "PIKE\n",
      "MONK\n",
      ".\n",
      "HOLLAND\n",
      "REESOR\n",
      "HARGROVE\n"
     ]
    }
   ],
   "source": [
    "for result in page_results:\n",
    "    print(result.contents[2].text)\n",
    "    #so last_name = result.contents[2].text"
   ]
  },
  {
   "cell_type": "code",
   "execution_count": 72,
   "metadata": {},
   "outputs": [
    {
     "data": {
      "text/plain": [
       "<td class=\"gv-field-20-4\" id=\"gv-field-20-4\">Alabama</td>"
      ]
     },
     "execution_count": 72,
     "metadata": {},
     "output_type": "execute_result"
    }
   ],
   "source": [
    "page_results[3].contents[3]"
   ]
  },
  {
   "cell_type": "code",
   "execution_count": 75,
   "metadata": {},
   "outputs": [
    {
     "name": "stdout",
     "output_type": "stream",
     "text": [
      "\n",
      "\n",
      "Alabama\n",
      "Alabama\n",
      "Alabama\n",
      "Alabama\n",
      "Alabama\n",
      "Alabama\n",
      "Alabama\n",
      "Alabama\n",
      "Alabama\n",
      "Alabama\n",
      "Alabama\n",
      "\n",
      "\n",
      "Alabama\n",
      "Alabama\n",
      "Alabama\n",
      "Alabama\n",
      "Alabama\n",
      "Alabama\n",
      "Alabama\n",
      "Alabama\n",
      "Alabama\n",
      "Alabama\n"
     ]
    }
   ],
   "source": [
    "for result in page_results:\n",
    "    print(result.contents[3].text)\n",
    "    # association = result.contents[3].text"
   ]
  },
  {
   "cell_type": "code",
   "execution_count": 77,
   "metadata": {},
   "outputs": [
    {
     "data": {
      "text/plain": [
       "<td class=\"gv-field-20-7\" id=\"gv-field-20-7\">2015 Attendee Ticket (Regular)</td>"
      ]
     },
     "execution_count": 77,
     "metadata": {},
     "output_type": "execute_result"
    }
   ],
   "source": [
    "page_results[0].contents[4]"
   ]
  },
  {
   "cell_type": "code",
   "execution_count": 78,
   "metadata": {},
   "outputs": [
    {
     "name": "stdout",
     "output_type": "stream",
     "text": [
      "2015 Attendee Ticket (Regular)\n",
      "2014 Pre-Registrations *CLOSED*\n",
      "2015 Attendee Ticket (Regular)\n",
      "2015 Attendee Ticket (Regular)\n",
      "2015 Attendee Ticket (Regular)\n",
      "2014 Pre-Registrations *CLOSED*\n",
      "2014 Pre-Registrations *CLOSED*\n",
      "2014 Pre-Registrations *CLOSED*\n",
      "2014 Pre-Registrations *CLOSED*\n",
      "2014 Pre-Registrations *CLOSED*\n",
      "2014 Pre-Registrations *CLOSED*\n",
      "2014 Pre-Registrations *CLOSED*\n",
      "2014 Pre-Registrations *CLOSED*\n",
      "2014 Pre-Registrations *CLOSED*\n",
      "2015 INVITED DG-VIP\n",
      "2015 Attendee Ticket (Regular)\n",
      "2015 Attendee Ticket (Regular)\n",
      "2015 Attendee Ticket (Regular)\n",
      "2015 Executive Council/Conference Staff/National Office\n",
      "2014 Pre-Registrations *CLOSED*\n",
      "2014 Pre-Registrations *CLOSED*\n",
      "2014 Pre-Registrations *CLOSED*\n",
      "2014 Pre-Registrations *CLOSED*\n",
      "2014 Pre-Registrations *CLOSED*\n",
      "2014 Pre-Registrations *CLOSED*\n"
     ]
    }
   ],
   "source": [
    "for result in page_results:\n",
    "    print(result.contents[4].text)\n",
    "    #ticket_type = result.contents[4].text"
   ]
  },
  {
   "cell_type": "code",
   "execution_count": 79,
   "metadata": {},
   "outputs": [
    {
     "data": {
      "text/plain": [
       "<td class=\"gv-field-20-8\" id=\"gv-field-20-8\">Attendee</td>"
      ]
     },
     "execution_count": 79,
     "metadata": {},
     "output_type": "execute_result"
    }
   ],
   "source": [
    "page_results[0].contents[5]"
   ]
  },
  {
   "cell_type": "code",
   "execution_count": 80,
   "metadata": {},
   "outputs": [
    {
     "name": "stdout",
     "output_type": "stream",
     "text": [
      "Attendee\n",
      "Attendee\n",
      "Attendee\n",
      "Delegate (authorized and confirmed by your State Association)\n",
      "Attendee\n",
      "Auxiliary\n",
      "Attendee\n",
      "Auxiliary\n",
      "Attendee\n",
      "Attendee\n",
      "Attendee\n",
      "Attendee\n",
      "Attendee\n",
      "Attendee\n",
      "Delegate (authorized and confirmed by your State Association)\n",
      "Attendee\n",
      "Delegate (authorized and confirmed by your State Association)\n",
      "Guest (of an Attendee)\n",
      "Executive Council\n",
      "Attendee\n",
      "Attendee\n",
      "Attendee\n",
      "Attendee\n",
      "Attendee\n",
      "Attendee\n"
     ]
    }
   ],
   "source": [
    "for result in page_results:\n",
    "    print(result.contents[5].text)\n",
    "    #status = result.contents[5].text"
   ]
  },
  {
   "cell_type": "code",
   "execution_count": 85,
   "metadata": {},
   "outputs": [
    {
     "data": {
      "text/plain": [
       "<td class=\"gv-field-20-9\" id=\"gv-field-20-9\">Beef</td>"
      ]
     },
     "execution_count": 85,
     "metadata": {},
     "output_type": "execute_result"
    }
   ],
   "source": [
    "page_results[2].contents[6]"
   ]
  },
  {
   "cell_type": "code",
   "execution_count": null,
   "metadata": {},
   "outputs": [],
   "source": []
  },
  {
   "cell_type": "code",
   "execution_count": null,
   "metadata": {},
   "outputs": [],
   "source": []
  },
  {
   "cell_type": "code",
   "execution_count": 86,
   "metadata": {},
   "outputs": [
    {
     "name": "stdout",
     "output_type": "stream",
     "text": [
      "Beef\n",
      "No, I will not attend\n",
      "Beef\n",
      "Chicken\n",
      "Chicken\n",
      "Chicken\n",
      "Beef\n",
      "Beef\n",
      "Chicken\n",
      "Chicken\n",
      "Beef\n",
      "No, I will not attend\n",
      "Beef\n",
      "Beef\n",
      "No, I will not attend\n",
      "Chicken\n",
      "Chicken\n",
      "Beef\n",
      "Beef\n",
      "Beef\n",
      "Beef\n",
      "Chicken\n",
      "No, I will not attend\n",
      "Beef\n",
      "Beef\n"
     ]
    }
   ],
   "source": [
    "for result in page_results:\n",
    "    print(result.contents[6].text)"
   ]
  },
  {
   "cell_type": "code",
   "execution_count": 87,
   "metadata": {},
   "outputs": [
    {
     "data": {
      "text/plain": [
       "[['Bonnie', 'Moser', '', '2015 Attendee Ticket (Regular)', 'Attendee', 'Beef'],\n",
       " ['DONNIE',\n",
       "  'KYLE',\n",
       "  '',\n",
       "  '2014 Pre-Registrations *CLOSED*',\n",
       "  'Attendee',\n",
       "  'No, I will not attend'],\n",
       " ['Tonny',\n",
       "  'Pridgen',\n",
       "  'Alabama',\n",
       "  '2015 Attendee Ticket (Regular)',\n",
       "  'Attendee',\n",
       "  'Beef']]"
      ]
     },
     "execution_count": 87,
     "metadata": {},
     "output_type": "execute_result"
    }
   ],
   "source": [
    "records = []\n",
    "for result in page_results:\n",
    "    first_name = result.contents[1].text\n",
    "    last_name = result.contents[2].text\n",
    "    association = result.contents[3].text\n",
    "    ticket_type = result.contents[4].text\n",
    "    status = result.contents[5].text\n",
    "    meal = result.contents[6].text\n",
    "    records.append([first_name, last_name, association, ticket_type, status, meal])\n",
    "    \n",
    "records[0:3]"
   ]
  },
  {
   "cell_type": "code",
   "execution_count": 90,
   "metadata": {},
   "outputs": [
    {
     "data": {
      "text/plain": [
       "<bound method NDFrame.head of      First Name   Last Name Association  \\\n",
       "0        Bonnie       Moser               \n",
       "1        DONNIE        KYLE               \n",
       "2         Tonny     Pridgen     Alabama   \n",
       "3        Kristi      Taylor     Alabama   \n",
       "4   James (Jim)      Choate     Alabama   \n",
       "5          JUDY        WOOD     Alabama   \n",
       "6         NANCY      WALLER     Alabama   \n",
       "7       BEVERLY        PIKE     Alabama   \n",
       "8      MARJORIE        MONK     Alabama   \n",
       "9         AUX 4           .     Alabama   \n",
       "10        STEVE  BOATWRIGHT     Alabama   \n",
       "11      SHERMAN    HARGROVE     Alabama   \n",
       "12         JOHN      ELMORE     Alabama   \n",
       "13        CHRIS       GRAGG               \n",
       "14         Mike     Schultz               \n",
       "15       Janine     Pridgen     Alabama   \n",
       "16          Pam       Adams     Alabama   \n",
       "17          Pat      Choate     Alabama   \n",
       "18          DON        WOOD     Alabama   \n",
       "19        EDDIE        PIKE     Alabama   \n",
       "20        CECIL        MONK     Alabama   \n",
       "21        AUX 3           .     Alabama   \n",
       "22         JUDY     HOLLAND     Alabama   \n",
       "23        PATTI      REESOR     Alabama   \n",
       "24    JACQUELYN    HARGROVE     Alabama   \n",
       "\n",
       "                                          Ticket Type  \\\n",
       "0                      2015 Attendee Ticket (Regular)   \n",
       "1                     2014 Pre-Registrations *CLOSED*   \n",
       "2                      2015 Attendee Ticket (Regular)   \n",
       "3                      2015 Attendee Ticket (Regular)   \n",
       "4                      2015 Attendee Ticket (Regular)   \n",
       "5                     2014 Pre-Registrations *CLOSED*   \n",
       "6                     2014 Pre-Registrations *CLOSED*   \n",
       "7                     2014 Pre-Registrations *CLOSED*   \n",
       "8                     2014 Pre-Registrations *CLOSED*   \n",
       "9                     2014 Pre-Registrations *CLOSED*   \n",
       "10                    2014 Pre-Registrations *CLOSED*   \n",
       "11                    2014 Pre-Registrations *CLOSED*   \n",
       "12                    2014 Pre-Registrations *CLOSED*   \n",
       "13                    2014 Pre-Registrations *CLOSED*   \n",
       "14                                2015 INVITED DG-VIP   \n",
       "15                     2015 Attendee Ticket (Regular)   \n",
       "16                     2015 Attendee Ticket (Regular)   \n",
       "17                     2015 Attendee Ticket (Regular)   \n",
       "18  2015 Executive Council/Conference Staff/Nation...   \n",
       "19                    2014 Pre-Registrations *CLOSED*   \n",
       "20                    2014 Pre-Registrations *CLOSED*   \n",
       "21                    2014 Pre-Registrations *CLOSED*   \n",
       "22                    2014 Pre-Registrations *CLOSED*   \n",
       "23                    2014 Pre-Registrations *CLOSED*   \n",
       "24                    2014 Pre-Registrations *CLOSED*   \n",
       "\n",
       "                                      Attendee Status                   Meal  \n",
       "0                                            Attendee                   Beef  \n",
       "1                                            Attendee  No, I will not attend  \n",
       "2                                            Attendee                   Beef  \n",
       "3   Delegate (authorized and confirmed by your Sta...                Chicken  \n",
       "4                                            Attendee                Chicken  \n",
       "5                                           Auxiliary                Chicken  \n",
       "6                                            Attendee                   Beef  \n",
       "7                                           Auxiliary                   Beef  \n",
       "8                                            Attendee                Chicken  \n",
       "9                                            Attendee                Chicken  \n",
       "10                                           Attendee                   Beef  \n",
       "11                                           Attendee  No, I will not attend  \n",
       "12                                           Attendee                   Beef  \n",
       "13                                           Attendee                   Beef  \n",
       "14  Delegate (authorized and confirmed by your Sta...  No, I will not attend  \n",
       "15                                           Attendee                Chicken  \n",
       "16  Delegate (authorized and confirmed by your Sta...                Chicken  \n",
       "17                             Guest (of an Attendee)                   Beef  \n",
       "18                                  Executive Council                   Beef  \n",
       "19                                           Attendee                   Beef  \n",
       "20                                           Attendee                   Beef  \n",
       "21                                           Attendee                Chicken  \n",
       "22                                           Attendee  No, I will not attend  \n",
       "23                                           Attendee                   Beef  \n",
       "24                                           Attendee                   Beef  >"
      ]
     },
     "execution_count": 90,
     "metadata": {},
     "output_type": "execute_result"
    }
   ],
   "source": [
    "import pandas as pd\n",
    "df = pd.DataFrame(records, columns = ['First Name', 'Last Name', 'Association', 'Ticket Type', 'Attendee Status', 'Meal'])\n",
    "df.head"
   ]
  },
  {
   "cell_type": "markdown",
   "metadata": {},
   "source": [
    "Ok, this is a good spot to stop for the night.  Next I need to actually scroll through every page, or find some other solution. It would also not hurt to clean up some of these options for a cleaner data file.  Such as just 'Delegate' and No -> N/A, etc."
   ]
  },
  {
   "cell_type": "code",
   "execution_count": null,
   "metadata": {},
   "outputs": [],
   "source": []
  },
  {
   "cell_type": "code",
   "execution_count": null,
   "metadata": {},
   "outputs": [],
   "source": []
  },
  {
   "cell_type": "code",
   "execution_count": null,
   "metadata": {},
   "outputs": [],
   "source": []
  },
  {
   "cell_type": "code",
   "execution_count": null,
   "metadata": {},
   "outputs": [],
   "source": []
  },
  {
   "cell_type": "code",
   "execution_count": null,
   "metadata": {},
   "outputs": [],
   "source": []
  },
  {
   "cell_type": "code",
   "execution_count": null,
   "metadata": {},
   "outputs": [],
   "source": []
  },
  {
   "cell_type": "code",
   "execution_count": null,
   "metadata": {},
   "outputs": [],
   "source": []
  },
  {
   "cell_type": "code",
   "execution_count": null,
   "metadata": {},
   "outputs": [],
   "source": []
  },
  {
   "cell_type": "code",
   "execution_count": null,
   "metadata": {},
   "outputs": [],
   "source": []
  },
  {
   "cell_type": "code",
   "execution_count": null,
   "metadata": {},
   "outputs": [],
   "source": []
  },
  {
   "cell_type": "code",
   "execution_count": null,
   "metadata": {},
   "outputs": [],
   "source": []
  },
  {
   "cell_type": "code",
   "execution_count": null,
   "metadata": {},
   "outputs": [],
   "source": []
  },
  {
   "cell_type": "code",
   "execution_count": null,
   "metadata": {},
   "outputs": [],
   "source": []
  },
  {
   "cell_type": "code",
   "execution_count": null,
   "metadata": {},
   "outputs": [],
   "source": []
  },
  {
   "cell_type": "code",
   "execution_count": null,
   "metadata": {},
   "outputs": [],
   "source": []
  },
  {
   "cell_type": "code",
   "execution_count": null,
   "metadata": {},
   "outputs": [],
   "source": []
  },
  {
   "cell_type": "code",
   "execution_count": null,
   "metadata": {},
   "outputs": [],
   "source": []
  },
  {
   "cell_type": "code",
   "execution_count": null,
   "metadata": {},
   "outputs": [],
   "source": []
  },
  {
   "cell_type": "code",
   "execution_count": null,
   "metadata": {},
   "outputs": [],
   "source": []
  },
  {
   "cell_type": "code",
   "execution_count": null,
   "metadata": {},
   "outputs": [],
   "source": []
  },
  {
   "cell_type": "code",
   "execution_count": null,
   "metadata": {},
   "outputs": [],
   "source": []
  },
  {
   "cell_type": "code",
   "execution_count": null,
   "metadata": {},
   "outputs": [],
   "source": []
  },
  {
   "cell_type": "code",
   "execution_count": null,
   "metadata": {},
   "outputs": [],
   "source": []
  },
  {
   "cell_type": "code",
   "execution_count": null,
   "metadata": {},
   "outputs": [],
   "source": []
  },
  {
   "cell_type": "code",
   "execution_count": null,
   "metadata": {},
   "outputs": [],
   "source": []
  },
  {
   "cell_type": "code",
   "execution_count": null,
   "metadata": {},
   "outputs": [],
   "source": []
  },
  {
   "cell_type": "code",
   "execution_count": null,
   "metadata": {},
   "outputs": [],
   "source": []
  },
  {
   "cell_type": "code",
   "execution_count": null,
   "metadata": {},
   "outputs": [],
   "source": []
  },
  {
   "cell_type": "code",
   "execution_count": null,
   "metadata": {},
   "outputs": [],
   "source": []
  },
  {
   "cell_type": "code",
   "execution_count": null,
   "metadata": {},
   "outputs": [],
   "source": []
  },
  {
   "cell_type": "code",
   "execution_count": null,
   "metadata": {},
   "outputs": [],
   "source": []
  },
  {
   "cell_type": "code",
   "execution_count": null,
   "metadata": {},
   "outputs": [],
   "source": []
  },
  {
   "cell_type": "code",
   "execution_count": null,
   "metadata": {},
   "outputs": [],
   "source": []
  },
  {
   "cell_type": "code",
   "execution_count": null,
   "metadata": {},
   "outputs": [],
   "source": []
  },
  {
   "cell_type": "code",
   "execution_count": null,
   "metadata": {},
   "outputs": [],
   "source": []
  },
  {
   "cell_type": "code",
   "execution_count": null,
   "metadata": {},
   "outputs": [],
   "source": []
  },
  {
   "cell_type": "code",
   "execution_count": null,
   "metadata": {},
   "outputs": [],
   "source": []
  },
  {
   "cell_type": "code",
   "execution_count": null,
   "metadata": {},
   "outputs": [],
   "source": []
  },
  {
   "cell_type": "code",
   "execution_count": null,
   "metadata": {},
   "outputs": [],
   "source": []
  }
 ],
 "metadata": {
  "kernelspec": {
   "display_name": "Python 3",
   "language": "python",
   "name": "python3"
  },
  "language_info": {
   "codemirror_mode": {
    "name": "ipython",
    "version": 3
   },
   "file_extension": ".py",
   "mimetype": "text/x-python",
   "name": "python",
   "nbconvert_exporter": "python",
   "pygments_lexer": "ipython3",
   "version": "3.6.4"
  }
 },
 "nbformat": 4,
 "nbformat_minor": 2
}
